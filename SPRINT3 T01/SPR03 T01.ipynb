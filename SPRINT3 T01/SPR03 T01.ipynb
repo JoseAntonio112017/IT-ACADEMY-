{
 "cells": [
  {
   "cell_type": "markdown",
   "id": "5b4348eb-f45f-4d17-a03a-faf751ce96d1",
   "metadata": {},
   "source": [
    "# SPRINT3 TAREA1"
   ]
  },
  {
   "cell_type": "markdown",
   "id": "8a2b7df8-d5e9-41ad-8b0c-d98e32e889d3",
   "metadata": {},
   "source": [
    "## Exercici 1"
   ]
  },
  {
   "cell_type": "markdown",
   "id": "9752d742-a87b-4b51-8af3-ad63282b0edb",
   "metadata": {},
   "source": [
    "***Crea una funció que donat un Array d’una dimensió, et faci un resum estadístic bàsic de les dades. Si detecta que l’array té més d’una dimensió, ha de mostrar un missatge d’error***\n",
    "\n"
   ]
  },
  {
   "cell_type": "code",
   "execution_count": 6,
   "id": "5f6ef991-94e6-46f1-b4a7-ad15cf87f42e",
   "metadata": {},
   "outputs": [],
   "source": [
    "import numpy as np"
   ]
  },
  {
   "cell_type": "code",
   "execution_count": 8,
   "id": "d2fa6f0b-46a5-4f14-8aa0-00a94a3e424b",
   "metadata": {},
   "outputs": [],
   "source": [
    "def estadísticaprevia(arr):\n",
    "    if len(arr.shape) >1:\n",
    "            print ('error')\n",
    "    else:\n",
    "        print (arr)\n",
    "        print ('Dimensión del array:',arr.ndim)\n",
    "        print ('Valor Mínimo:', np.min(arr))\n",
    "        print ('Valor Máximo:', np.max(arr))\n",
    "        print ('Media Aritmética:',np.mean(arr))\n",
    "        print ('Valor equidistante de los extremos:', np.median (arr))\n",
    "        print ('Desviación:', np.std(arr))\n"
   ]
  },
  {
   "cell_type": "code",
   "execution_count": 9,
   "id": "258c7240-588a-42e0-886d-f574d7e3c7dd",
   "metadata": {},
   "outputs": [
    {
     "name": "stdout",
     "output_type": "stream",
     "text": [
      "[0.39547442 0.72678495 0.13092793 0.37725425 0.12669987 0.73428923\n",
      " 0.40308233 0.68883859 0.18446309 0.85086597 0.38177515 0.26093264\n",
      " 0.38628031 0.23715368 0.14168877 0.26028882 0.2904823  0.34257865\n",
      " 0.88897311 0.93327444 0.40933901 0.58939561 0.12138715 0.26279584\n",
      " 0.36070196 0.24775345 0.79432059 0.41217039 0.01988374 0.22717204\n",
      " 0.87584714 0.90340615 0.05140966 0.39294102 0.22230149 0.59701168\n",
      " 0.6947348  0.01692182 0.90918627 0.46384284]\n",
      "Dimensión del array: 1\n",
      "Valor Mínimo: 0.01692181708128715\n",
      "Valor Máximo: 0.9332744405002709\n",
      "Media Aritmética: 0.4328657787382558\n",
      "Valor equidistante de los extremos: 0.3840277303607047\n",
      "Desviación: 0.27310345292707994\n"
     ]
    }
   ],
   "source": [
    "from numpy import random\n",
    "arr5 =random.rand (40)\n",
    "estadísticaprevia(arr5)"
   ]
  },
  {
   "cell_type": "markdown",
   "id": "3fcf7192-af7e-45a6-bb2c-a46d0afafd1c",
   "metadata": {},
   "source": [
    "## Exercici 2"
   ]
  },
  {
   "cell_type": "markdown",
   "id": "3018f087-280e-4ade-8eef-8d76ed8a2d10",
   "metadata": {},
   "source": [
    "***Crea una funció que et generi un quadrat NxN de nombres aleatoris entre el 0 i el 100.***\n",
    "\n"
   ]
  },
  {
   "cell_type": "code",
   "execution_count": 10,
   "id": "1fe2c089-e7b3-4d6c-8754-567eba8b86d0",
   "metadata": {},
   "outputs": [],
   "source": [
    "def TablaAleatoria():\n",
    "    print ('TABLA ALEATORIA DE 0 A 100:')\n",
    "    print (np.random.randint(100, size=(10,10)))"
   ]
  },
  {
   "cell_type": "code",
   "execution_count": 11,
   "id": "c0206db2-0c16-4a58-ae0b-0d5140e389c8",
   "metadata": {},
   "outputs": [
    {
     "name": "stdout",
     "output_type": "stream",
     "text": [
      "TABLA ALEATORIA DE 0 A 100:\n",
      "[[82  4 40 65 52  0 13 46 85 23]\n",
      " [60 10 77 70 37 79 93 47 69 13]\n",
      " [51 54 73 35  1 74 94 95 49 27]\n",
      " [91  3  1 45 72 55 51 42 46 80]\n",
      " [44  5 13 34 87 46 50 29 20  3]\n",
      " [27 72 56 58 78 39 33  5 77 92]\n",
      " [83 61 34 75 90 69 99  5 47 10]\n",
      " [55 32 43 44 25 36 97 99 87 87]\n",
      " [78 78 57 68 28 13 47 99 42 50]\n",
      " [27 42 37 81  9 21 59 67 81 54]]\n"
     ]
    }
   ],
   "source": [
    "TablaAleatoria ()"
   ]
  },
  {
   "cell_type": "markdown",
   "id": "aeb632bc-bf65-4285-b444-5fe6b4fc00eb",
   "metadata": {},
   "source": [
    "## Exercici 3"
   ]
  },
  {
   "cell_type": "markdown",
   "id": "d5436f62-7e72-48e3-b5b7-10cfa1ec9151",
   "metadata": {},
   "source": [
    "***Crea una funció que donada una taula de dues dimensions (NxM), et calculi els totals per fila i els totals per columna.***"
   ]
  },
  {
   "cell_type": "code",
   "execution_count": 12,
   "id": "6db193f4-ae0a-4d31-8913-08ea682999cb",
   "metadata": {},
   "outputs": [],
   "source": [
    "def Totales (arr):\n",
    "    print ('Suma por Filas:', np.sum(arr, axis=1))\n",
    "    print ('Suma por Columnas:', np.sum(arr, axis=0))"
   ]
  },
  {
   "cell_type": "code",
   "execution_count": 13,
   "id": "15cfd588-4527-402e-bc7b-34872013aab3",
   "metadata": {},
   "outputs": [
    {
     "name": "stdout",
     "output_type": "stream",
     "text": [
      "[[45 89 82 59 44 38 23 45]\n",
      " [40 95 38 38 81  3 65 75]\n",
      " [55 75 46 32 90 83  6 67]\n",
      " [24 77 43 95 58 29 17 77]\n",
      " [92 55 20 46 48 78 65 58]\n",
      " [60 39 98 80 78 13 71 88]\n",
      " [18 10 85 38  1 43 60 66]]\n"
     ]
    }
   ],
   "source": [
    "arr1=np.random.randint(100, size=(7,8))\n",
    "print (arr1)"
   ]
  },
  {
   "cell_type": "code",
   "execution_count": 14,
   "id": "eedfc228-0e71-4ccc-8206-c6bc895c2e4b",
   "metadata": {},
   "outputs": [
    {
     "name": "stdout",
     "output_type": "stream",
     "text": [
      "Suma por Filas: [425 435 454 420 462 527 321]\n",
      "Suma por Columnas: [334 440 412 388 400 287 307 476]\n"
     ]
    }
   ],
   "source": [
    "Totales (arr1)"
   ]
  },
  {
   "cell_type": "markdown",
   "id": "5fc11a08-1ddd-4333-8f0b-67c769108925",
   "metadata": {},
   "source": [
    "## Exercici 4"
   ]
  },
  {
   "cell_type": "markdown",
   "id": "f95733b5-e789-483a-99e2-7f6bf42b1608",
   "metadata": {},
   "source": [
    "***Implementa manualment una funció que calculi el coeficient de correlació. Informa-te'n sobre els seus usos i interpretació.***"
   ]
  },
  {
   "cell_type": "code",
   "execution_count": 15,
   "id": "66e424d4-1ffd-4303-9376-b5795a0aaf92",
   "metadata": {},
   "outputs": [
    {
     "name": "stdout",
     "output_type": "stream",
     "text": [
      "[74 83  2 54 82 27 39 66 32 78 51 88 83 23 92 82 81 88 36 19]\n",
      "[52 27 21 48 48 41 25 39 24 23 97 13 89 26 43 17 27 22  8 29]\n"
     ]
    }
   ],
   "source": [
    "arr1 = np.random.randint(100,size=20)\n",
    "arr2 = np.random.randint(100, size=20)\n",
    "print (arr1)\n",
    "print (arr2)"
   ]
  },
  {
   "cell_type": "code",
   "execution_count": 25,
   "id": "a6cfd31e-7e5d-4244-a000-545ab7a5b731",
   "metadata": {},
   "outputs": [
    {
     "name": "stdout",
     "output_type": "stream",
     "text": [
      "0.15050468770394743\n",
      "[[1.         0.15050469]\n",
      " [0.15050469 1.        ]]\n"
     ]
    }
   ],
   "source": [
    "                                       #1er    Obtenir la covariança en tres passes:\n",
    "producto=arr1*arr2                                  #    -Fer el producte entre les mostres de dades...         \n",
    "pre_cov=sum(producto)/len(arr1)                     #    -...dividit pel número de mostres respectives\n",
    "prod_medias=np.mean(arr1)*np.mean(arr2)                          #(Producte de mitges aritmétiques)\n",
    "covarianza = pre_cov - prod_medias                  #     -...resultat del qual es resta el producte de les mitges aritmétiques, obtingut al pas anterior\n",
    "stds = np.std(arr1)*np.std(arr2)                                #(Producte de les respectives desviacions)\n",
    "coeficiente = covarianza/stds          #2on    Divisió de la covariança pel producte de les desviacions. El resultat és el coeficient de correlació\n",
    "print (coeficiente)                           \n",
    "pearson= np.corrcoef(arr1,arr2)             #Comprovació amb la funció incorporada a numpy...\n",
    "print (pearson)\n"
   ]
  },
  {
   "cell_type": "code",
   "execution_count": 28,
   "id": "47b8510d-fe75-44ed-902b-2b3c903999fa",
   "metadata": {},
   "outputs": [
    {
     "name": "stdout",
     "output_type": "stream",
     "text": [
      "0.15050468770394743\n"
     ]
    }
   ],
   "source": [
    "                                                          #La funció...\n",
    "def Coef_correlacion(arr1,arr2):\n",
    "    pre_cov=sum(arr1*arr2)/len(arr1)\n",
    "    covarianza=pre_cov-(np.mean(arr1)*np.mean(arr2))\n",
    "    coef=covarianza/(np.std(arr1)*np.std(arr2))\n",
    "    print (coef)\n",
    "Coef_correlacion (arr1,arr2)                             "
   ]
  },
  {
   "cell_type": "code",
   "execution_count": 34,
   "id": "36e2c224-ca5a-42a5-9ac3-90d8a66ef752",
   "metadata": {},
   "outputs": [],
   "source": [
    "                                 #En una línia, ja que és una pura fórmula matemàtica. Ara, molt 'pithònic' crec que no queda...\n",
    "def Correlacion(arr1,arr2):\n",
    "    print (((sum(arr1*arr2)/len(arr1))-(np.mean(arr1)*np.mean(arr2)))/(np.std(arr1)*np.std(arr2)))\n"
   ]
  },
  {
   "cell_type": "code",
   "execution_count": 35,
   "id": "246d653a-aebc-43cd-9af3-2a710dc4002c",
   "metadata": {},
   "outputs": [
    {
     "name": "stdout",
     "output_type": "stream",
     "text": [
      "0.15050468770394743\n"
     ]
    }
   ],
   "source": [
    "Correlacion (arr1, arr2)"
   ]
  }
 ],
 "metadata": {
  "kernelspec": {
   "display_name": "Python 3 (ipykernel)",
   "language": "python",
   "name": "python3"
  },
  "language_info": {
   "codemirror_mode": {
    "name": "ipython",
    "version": 3
   },
   "file_extension": ".py",
   "mimetype": "text/x-python",
   "name": "python",
   "nbconvert_exporter": "python",
   "pygments_lexer": "ipython3",
   "version": "3.9.16"
  }
 },
 "nbformat": 4,
 "nbformat_minor": 5
}
