{
 "cells": [
  {
   "cell_type": "markdown",
   "id": "da75c02f-04ee-4253-ac10-4b8cf90f90fa",
   "metadata": {},
   "source": [
    "## SPRINT 2 TASCA 2"
   ]
  },
  {
   "cell_type": "markdown",
   "id": "5a938ab1-6eed-422c-b543-e08aab0c894f",
   "metadata": {},
   "source": [
    "### Exercici 2"
   ]
  },
  {
   "cell_type": "markdown",
   "id": "003718da-a967-4139-90c8-3224410dc590",
   "metadata": {},
   "source": [
    "***Utilitzant el següent tutorial crea un programa que et pregunti dos números. T’ha de mostrar un missatge dient si el primer és més gran, el segon és més gran o són iguals.\n",
    "->Programiz: Python Input, Output and Import***"
   ]
  },
  {
   "cell_type": "code",
   "execution_count": 34,
   "id": "a1fc231f-8108-47b3-98f8-1a37b70e3efc",
   "metadata": {},
   "outputs": [
    {
     "name": "stdout",
     "output_type": "stream",
     "text": [
      "Pensa dos números\n"
     ]
    },
    {
     "name": "stdin",
     "output_type": "stream",
     "text": [
      "Primer número   5\n",
      "Segundo número  4\n"
     ]
    },
    {
     "name": "stdout",
     "output_type": "stream",
     "text": [
      "5 és major que 4\n"
     ]
    }
   ],
   "source": [
    "print('Pensa dos números')\n",
    "numero1 = int(input ('Primer número  '))\n",
    "numero2 = int(input ('Segundo número '))\n",
    "type (numero1) \n",
    "if numero1 < numero2:\n",
    "    print ((numero1), ('és menor que'),(numero2))\n",
    "elif numero1==numero2:\n",
    "    print ((numero1),('y'),(numero2),('són iguals'))\n",
    "else:\n",
    "    print ((numero1), ('és major que') ,(numero2))"
   ]
  }
 ],
 "metadata": {
  "kernelspec": {
   "display_name": "Python 3 (ipykernel)",
   "language": "python",
   "name": "python3"
  },
  "language_info": {
   "codemirror_mode": {
    "name": "ipython",
    "version": 3
   },
   "file_extension": ".py",
   "mimetype": "text/x-python",
   "name": "python",
   "nbconvert_exporter": "python",
   "pygments_lexer": "ipython3",
   "version": "3.9.16"
  }
 },
 "nbformat": 4,
 "nbformat_minor": 5
}
