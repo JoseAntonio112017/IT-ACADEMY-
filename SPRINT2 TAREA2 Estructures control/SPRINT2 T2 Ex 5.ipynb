{
 "cells": [
  {
   "cell_type": "markdown",
   "id": "c78652fb-75d5-47c5-a0e9-1791057bc0ac",
   "metadata": {},
   "source": [
    "## SPRINT 2 TASCA 2"
   ]
  },
  {
   "cell_type": "markdown",
   "id": "df464af5-9452-409d-b574-fa8bd7431dbf",
   "metadata": {},
   "source": [
    "### Exercici 5"
   ]
  },
  {
   "cell_type": "markdown",
   "id": "fa64edc1-9a34-4cd6-bd5a-1225bf336558",
   "metadata": {},
   "source": [
    "***Crea un programa que donada una llista, et digui quants números coincideixen amb la seva posició. Per exemple [3,4,2,0,2,3,6] el 2 i el 6 coincideixen.***"
   ]
  },
  {
   "cell_type": "code",
   "execution_count": 3,
   "id": "a54fb10d-0ef0-4754-9a5f-7dbf3a9c738c",
   "metadata": {},
   "outputs": [
    {
     "name": "stdout",
     "output_type": "stream",
     "text": [
      "[3, 4, 7]\n"
     ]
    }
   ],
   "source": [
    "lista_ejemplo = [1,2,3,3,4,4,5,7]\n",
    "coincidencias = []\n",
    "for index, value in enumerate (lista_ejemplo):\n",
    "    if index == value:\n",
    "        coincidencias.append(value)\n",
    "print (coincidencias)\n",
    "    "
   ]
  }
 ],
 "metadata": {
  "kernelspec": {
   "display_name": "Python 3 (ipykernel)",
   "language": "python",
   "name": "python3"
  },
  "language_info": {
   "codemirror_mode": {
    "name": "ipython",
    "version": 3
   },
   "file_extension": ".py",
   "mimetype": "text/x-python",
   "name": "python",
   "nbconvert_exporter": "python",
   "pygments_lexer": "ipython3",
   "version": "3.9.16"
  }
 },
 "nbformat": 4,
 "nbformat_minor": 5
}
