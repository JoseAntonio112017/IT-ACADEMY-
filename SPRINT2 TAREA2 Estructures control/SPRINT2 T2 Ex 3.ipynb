{
 "cells": [
  {
   "cell_type": "markdown",
   "id": "6bb8326d-002e-4d1f-aa6d-62010517a9be",
   "metadata": {},
   "source": [
    "## SPRINT 2 TASCA 2"
   ]
  },
  {
   "cell_type": "markdown",
   "id": "de6afc7c-6439-41f1-b432-769ba1be08da",
   "metadata": {},
   "source": [
    "### Exercici 3"
   ]
  },
  {
   "cell_type": "markdown",
   "id": "e997c3d9-3dd6-4d93-b391-c6f08e61a42d",
   "metadata": {},
   "source": [
    "***Crea un programa que et pregunti el teu nom, i et demani un número. Si el número és 0, hauria de mostrar un missatge d’error. En cas contrarm\n",
    "i, hauria de mostrar el nom repetit tants cops com indiqui el número. Per exemple, “Joan Joan Joan”.***"
   ]
  },
  {
   "cell_type": "code",
   "execution_count": 16,
   "id": "7305ac02-dc10-4a42-8060-5f59ed6823e4",
   "metadata": {},
   "outputs": [
    {
     "name": "stdin",
     "output_type": "stream",
     "text": [
      "Di tu nombre  pepe\n",
      "Dime un número  7\n"
     ]
    },
    {
     "name": "stdout",
     "output_type": "stream",
     "text": [
      "1 pepe\n",
      "2 pepe\n",
      "3 pepe\n",
      "4 pepe\n",
      "5 pepe\n",
      "6 pepe\n",
      "7 pepe\n"
     ]
    }
   ],
   "source": [
    "nombre = input('Di tu nombre ')\n",
    "numero =int(input ('Dime un número '))\n",
    "i=1\n",
    "while i <= numero:\n",
    "    print((i),(nombre))    \n",
    "    i+= 1"
   ]
  }
 ],
 "metadata": {
  "kernelspec": {
   "display_name": "Python 3 (ipykernel)",
   "language": "python",
   "name": "python3"
  },
  "language_info": {
   "codemirror_mode": {
    "name": "ipython",
    "version": 3
   },
   "file_extension": ".py",
   "mimetype": "text/x-python",
   "name": "python",
   "nbconvert_exporter": "python",
   "pygments_lexer": "ipython3",
   "version": "3.9.16"
  }
 },
 "nbformat": 4,
 "nbformat_minor": 5
}
