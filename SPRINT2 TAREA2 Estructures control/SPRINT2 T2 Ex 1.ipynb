{
 "cells": [
  {
   "cell_type": "markdown",
   "id": "492e3e68-0b95-40a7-a8ea-9147ad87698a",
   "metadata": {},
   "source": [
    "## SPRINT 2 TASCA 2"
   ]
  },
  {
   "cell_type": "markdown",
   "id": "3ab958a4-dbfa-4220-8150-5cc38bf1e1e8",
   "metadata": {},
   "source": [
    "### Exercici 1"
   ]
  },
  {
   "cell_type": "markdown",
   "id": "2f4e440e-391b-430e-8cbb-ab39ad5c41d2",
   "metadata": {},
   "source": [
    "***L'exercici consisteix a crear un programa que et classifiqui una variable numèrica en funció de l’escala Suspès/Aprovat/Notable/Excel·lent.\n",
    "Recorda que Suspès < 5, Aprovat > 5 i < 7, Notable > 7 i < 9 i Excel·lent > 9.***"
   ]
  },
  {
   "cell_type": "code",
   "execution_count": 2,
   "id": "60b04ff5-84ce-499a-94a3-44ec86253dba",
   "metadata": {},
   "outputs": [
    {
     "name": "stdin",
     "output_type": "stream",
     "text": [
      "Introduce tu nota (con decimales si es el caso) \n",
      " 9.5\n"
     ]
    },
    {
     "name": "stdout",
     "output_type": "stream",
     "text": [
      "SOBRESALIENTE!! LOL\n"
     ]
    }
   ],
   "source": [
    "numero =float (input ('Introduce tu nota (con decimales si es el caso) \\n' ))\n",
    "if numero >=9:\n",
    "    print ('SOBRESALIENTE!! LOL')\n",
    "elif numero <9 and numero>=7:\n",
    "    print ('NOTABLE GOOD JOB!') \n",
    "elif numero <7 and numero>=5:\n",
    "    print ('APROBADO... UFFF')\n",
    "else:\n",
    "    print ('SUSPENSO  ARRRGH')"
   ]
  }
 ],
 "metadata": {
  "kernelspec": {
   "display_name": "Python 3 (ipykernel)",
   "language": "python",
   "name": "python3"
  },
  "language_info": {
   "codemirror_mode": {
    "name": "ipython",
    "version": 3
   },
   "file_extension": ".py",
   "mimetype": "text/x-python",
   "name": "python",
   "nbconvert_exporter": "python",
   "pygments_lexer": "ipython3",
   "version": "3.9.16"
  }
 },
 "nbformat": 4,
 "nbformat_minor": 5
}
