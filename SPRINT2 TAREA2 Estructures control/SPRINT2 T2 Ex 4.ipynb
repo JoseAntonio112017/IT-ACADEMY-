{
 "cells": [
  {
   "cell_type": "markdown",
   "id": "89a63164-cb5a-4da6-a88e-c64a1b3a7e97",
   "metadata": {},
   "source": [
    "## SPRINT 2 TASCA 2"
   ]
  },
  {
   "cell_type": "markdown",
   "id": "5d374e20-f734-4268-bf3f-d830265327cf",
   "metadata": {},
   "source": [
    "### Exercici 4"
   ]
  },
  {
   "cell_type": "markdown",
   "id": "b7e068c0-03be-4144-8431-d09b7617b79c",
   "metadata": {},
   "source": [
    "***Crea un programa que donada una llista qualsevol, et digui si és simètrica o no. Si ho és, que et digui quants elements té.***"
   ]
  },
  {
   "cell_type": "code",
   "execution_count": 3,
   "id": "348ee3f9-081d-486a-945b-c3ba03c92bb5",
   "metadata": {},
   "outputs": [
    {
     "name": "stdout",
     "output_type": "stream",
     "text": [
      "OK!! Com en un mirall!\n"
     ]
    }
   ],
   "source": [
    "lista1=[9,8,7,6,5,4,3,2,1,2,3,4,5,6,7,8,9]\n",
    "lista2 = lista1[::-1]\n",
    "if lista2==lista1:\n",
    "    print ('OK!! Com en un mirall!')\n",
    "else:\n",
    "\n",
    "    print ('TURURU No és el mateix al Carrer del Mig que al Mig del Carrer ;)')\n"
   ]
  }
 ],
 "metadata": {
  "kernelspec": {
   "display_name": "Python 3 (ipykernel)",
   "language": "python",
   "name": "python3"
  },
  "language_info": {
   "codemirror_mode": {
    "name": "ipython",
    "version": 3
   },
   "file_extension": ".py",
   "mimetype": "text/x-python",
   "name": "python",
   "nbconvert_exporter": "python",
   "pygments_lexer": "ipython3",
   "version": "3.9.16"
  }
 },
 "nbformat": 4,
 "nbformat_minor": 5
}
