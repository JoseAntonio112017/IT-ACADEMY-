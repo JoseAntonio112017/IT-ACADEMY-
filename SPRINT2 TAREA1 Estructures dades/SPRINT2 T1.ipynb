{
 "cells": [
  {
   "cell_type": "markdown",
   "id": "5f065538",
   "metadata": {},
   "source": [
    "## SPRINT 2 TASCA 1"
   ]
  },
  {
   "cell_type": "markdown",
   "id": "ad9d792d",
   "metadata": {},
   "source": [
    "## Exercici 1"
   ]
  },
  {
   "cell_type": "markdown",
   "id": "23dd9bb9",
   "metadata": {},
   "source": [
    "**Crea una llista que agrupi els mesos de l’any en trimestres (1T: gener, febrer i març; 2T: abril, maig, juny...), és a dir, una llista amb 4 llistes dins.**\n",
    "\n"
   ]
  },
  {
   "cell_type": "markdown",
   "id": "71d01897",
   "metadata": {},
   "source": [
    "Comencem per disposar els dotze mesos"
   ]
  },
  {
   "cell_type": "code",
   "execution_count": 4,
   "id": "d36e3c47",
   "metadata": {},
   "outputs": [
    {
     "name": "stdout",
     "output_type": "stream",
     "text": [
      "['enero', 'febrero', 'marzo', 'abril', 'mayo', 'junio', 'julio', 'agosto', 'septiembre', 'octubre', 'noviembre', 'diciembre']\n"
     ]
    }
   ],
   "source": [
    "meses = ['enero', 'febrero', 'marzo', 'abril', 'mayo', 'junio', 'julio', 'agosto', 'septiembre', 'octubre', 'noviembre', \n",
    "         'diciembre']\n",
    "print (meses)"
   ]
  },
  {
   "cell_type": "markdown",
   "id": "4cddb520",
   "metadata": {},
   "source": [
    "Una primera solució amb bucle..."
   ]
  },
  {
   "cell_type": "code",
   "execution_count": 5,
   "id": "4085dd06",
   "metadata": {},
   "outputs": [
    {
     "name": "stdout",
     "output_type": "stream",
     "text": [
      "[['enero', 'febrero', 'marzo'], ['abril', 'mayo', 'junio'], ['julio', 'agosto', 'septiembre'], ['octubre', 'noviembre', 'diciembre']]\n"
     ]
    }
   ],
   "source": [
    "\n",
    "meses = ['enero', 'febrero', 'marzo', 'abril', 'mayo', 'junio', 'julio', 'agosto', 'septiembre', 'octubre', 'noviembre', \n",
    "         'diciembre']\n",
    "\n",
    "trimestres = [[] for pepe in range(4)]   # Pas 1\n",
    "\n",
    "for pepe, mes in enumerate(meses):       # Pas 2\n",
    "    numero_mes = pepe  // 3              # Pas 3 \n",
    "    trimestres[numero_mes].append(mes)   # Pas 4\n",
    "\n",
    "print(trimestres)\n"
   ]
  },
  {
   "cell_type": "markdown",
   "id": "8ff3816f",
   "metadata": {},
   "source": [
    "On...\n",
    "En el Pas 1 es crea una llista amb quatre subllistes en blanc\n",
    "En el Pas 2 indiquem que volem prendre com referència el 'número d'ordre' de cada mes...\n",
    "...per en el Pas 3 i 4 determinar la subllista/trimestre on anirà i col-locar ho en el seu lloc amb append\n",
    "           ***Comentari dins el comentari: em va costar veure qué és el que veritablement \n",
    "           calculava el pas 3. Després de trastejar(!) amb el \"divisor\" vaig veure que el\n",
    "           que fa no és cap divisió com tal, sino fer grups. Si es canvia aquest 3, es modifica\n",
    "           la distribució a grups de 4, 5... 50... amb els que tracta d'emplenar la primera subllista,\n",
    "           després la segona... fins que es queda sense mesos.         \n"
   ]
  },
  {
   "cell_type": "markdown",
   "id": "c552929f",
   "metadata": {},
   "source": [
    "Una altra solució en una sola línia..."
   ]
  },
  {
   "cell_type": "code",
   "execution_count": 6,
   "id": "d75a10bf",
   "metadata": {},
   "outputs": [
    {
     "name": "stdout",
     "output_type": "stream",
     "text": [
      "[['enero', 'febrero', 'marzo'], ['abril', 'mayo', 'junio'], ['julio', 'agosto', 'septiembre'], ['octubre', 'noviembre', 'diciembre']]\n"
     ]
    }
   ],
   "source": [
    "año_trimestres= [meses[x:x+3] for x in range (0, len (meses), 3)]\n",
    "print (año_trimestres)"
   ]
  },
  {
   "cell_type": "markdown",
   "id": "77c7ac07",
   "metadata": {},
   "source": [
    "Havia de ser molt similar:\n",
    "Abans del *for* posem el que volem fer, o sigui subllistes de tres...\n",
    "...i a la segona part hem de donar un iterable, la qual cosa es fa aquí amb range, indicant que es fará a tot el rang de la llista amb salts de \"3\", que en aquest cas es refereix a cada subllista."
   ]
  },
  {
   "cell_type": "markdown",
   "id": "6495baa3",
   "metadata": {},
   "source": [
    "## Exercici 2"
   ]
  },
  {
   "cell_type": "markdown",
   "id": "2c477c80",
   "metadata": {},
   "source": [
    "Crea un codi que et permeti accedir a:\n",
    "\n",
    "1. El segon mes del primer trimestre.\n",
    "1. Els mesos del primer trimestre.\n",
    "1. Setembre i octubre."
   ]
  },
  {
   "cell_type": "markdown",
   "id": "ad223dce",
   "metadata": {},
   "source": [
    "***1. El segon mes del primer trimestre***"
   ]
  },
  {
   "cell_type": "code",
   "execution_count": 7,
   "id": "96cb0ef4",
   "metadata": {},
   "outputs": [
    {
     "name": "stdout",
     "output_type": "stream",
     "text": [
      "febrero\n"
     ]
    }
   ],
   "source": [
    "print (año_trimestres [0] [1]) #Segon del primer trimestre "
   ]
  },
  {
   "cell_type": "markdown",
   "id": "130bea75",
   "metadata": {},
   "source": [
    "***2. Els mesos del primer trimestre***"
   ]
  },
  {
   "cell_type": "code",
   "execution_count": 8,
   "id": "25efb127",
   "metadata": {},
   "outputs": [
    {
     "name": "stdout",
     "output_type": "stream",
     "text": [
      "['enero', 'febrero', 'marzo']\n"
     ]
    }
   ],
   "source": [
    "print (año_trimestres [0]) #Mesos del primer..."
   ]
  },
  {
   "cell_type": "markdown",
   "id": "25409f79",
   "metadata": {},
   "source": [
    " Provarem amb *join* per tal de treure els claudàtors. "
   ]
  },
  {
   "cell_type": "code",
   "execution_count": 9,
   "id": "4eea2726",
   "metadata": {},
   "outputs": [
    {
     "name": "stdout",
     "output_type": "stream",
     "text": [
      "enero,febrero,marzo\n"
     ]
    }
   ],
   "source": [
    "trimestre1 = año_trimestres [0]\n",
    "trimestre1_ok = (','.join (trimestre1))\n",
    "print (trimestre1_ok)"
   ]
  },
  {
   "cell_type": "markdown",
   "id": "741e92ec",
   "metadata": {},
   "source": [
    "***3. Setembre i octubre***"
   ]
  },
  {
   "cell_type": "markdown",
   "id": "8bdd5d15",
   "metadata": {},
   "source": [
    "Suposarem que el qué es demana es trobar l'ordinal d'un element en una hipotètica llista, els elements de la qual no coneixem de memòria, no com en el cas dels mesos de l'any"
   ]
  },
  {
   "cell_type": "code",
   "execution_count": 10,
   "id": "dcd398a0",
   "metadata": {},
   "outputs": [
    {
     "name": "stdout",
     "output_type": "stream",
     "text": [
      "[['enero', 'febrero', 'marzo'], ['abril', 'mayo', 'junio'], ['julio', 'agosto', 'septiembre'], ['octubre', 'noviembre', 'diciembre']]\n"
     ]
    }
   ],
   "source": [
    "print (año_trimestres)"
   ]
  },
  {
   "cell_type": "markdown",
   "id": "d7ca65ea",
   "metadata": {},
   "source": [
    "Es fa servir 'enumerate' per iterar sobre ambdos elements, subllistes i els components de cada unad' elles."
   ]
  },
  {
   "cell_type": "code",
   "execution_count": 11,
   "id": "e8879e41",
   "metadata": {},
   "outputs": [
    {
     "name": "stdout",
     "output_type": "stream",
     "text": [
      "[(2, 2), (3, 0)]\n"
     ]
    }
   ],
   "source": [
    "busqueda1 = ['septiembre', 'octubre']\n",
    "respuesta1 = []\n",
    "for x, sublist in enumerate(año_trimestres):\n",
    "        for y, mes in enumerate (sublist):\n",
    "            if mes in busqueda1:\n",
    "                respuesta1.append((x,y))\n",
    "                       \n",
    "print (respuesta1)\n",
    "   "
   ]
  },
  {
   "cell_type": "markdown",
   "id": "5692d61e",
   "metadata": {},
   "source": [
    "## Exercici 3"
   ]
  },
  {
   "cell_type": "markdown",
   "id": "a29e01db",
   "metadata": {},
   "source": [
    "***Crea una llista amb nombres desordenats i respon a les següents preguntes:***"
   ]
  },
  {
   "cell_type": "code",
   "execution_count": 15,
   "id": "a468f4d4",
   "metadata": {},
   "outputs": [
    {
     "ename": "NameError",
     "evalue": "name 'random' is not defined",
     "output_type": "error",
     "traceback": [
      "\u001b[1;31m---------------------------------------------------------------------------\u001b[0m",
      "\u001b[1;31mNameError\u001b[0m                                 Traceback (most recent call last)",
      "Cell \u001b[1;32mIn[15], line 1\u001b[0m\n\u001b[1;32m----> 1\u001b[0m random_list \u001b[38;5;241m=\u001b[39m [random\u001b[38;5;241m.\u001b[39mrandint(\u001b[38;5;241m20\u001b[39m, \u001b[38;5;241m50\u001b[39m) \u001b[38;5;28;01mfor\u001b[39;00m i \u001b[38;5;129;01min\u001b[39;00m \u001b[38;5;28mrange\u001b[39m(\u001b[38;5;241m10\u001b[39m)]\n\u001b[0;32m      3\u001b[0m \u001b[38;5;28mprint\u001b[39m(random_list)\n",
      "Cell \u001b[1;32mIn[15], line 1\u001b[0m, in \u001b[0;36m<listcomp>\u001b[1;34m(.0)\u001b[0m\n\u001b[1;32m----> 1\u001b[0m random_list \u001b[38;5;241m=\u001b[39m [\u001b[43mrandom\u001b[49m\u001b[38;5;241m.\u001b[39mrandint(\u001b[38;5;241m20\u001b[39m, \u001b[38;5;241m50\u001b[39m) \u001b[38;5;28;01mfor\u001b[39;00m i \u001b[38;5;129;01min\u001b[39;00m \u001b[38;5;28mrange\u001b[39m(\u001b[38;5;241m10\u001b[39m)]\n\u001b[0;32m      3\u001b[0m \u001b[38;5;28mprint\u001b[39m(random_list)\n",
      "\u001b[1;31mNameError\u001b[0m: name 'random' is not defined"
     ]
    }
   ],
   "source": [
    "random_list = [random.randint(20, 50) for i in range(10)]\n",
    "\n",
    "print(random_list)"
   ]
  },
  {
   "cell_type": "markdown",
   "id": "bb0d0d9f",
   "metadata": {},
   "source": [
    "Aquest error ve a dir que cal importar el módul 'random'"
   ]
  },
  {
   "cell_type": "code",
   "execution_count": 16,
   "id": "9413229f",
   "metadata": {},
   "outputs": [
    {
     "name": "stdout",
     "output_type": "stream",
     "text": [
      "[817, 765, 799, 154, 514, 654, 319, 614, 89, 519, 605, 44, 691, 582, 841, 852, 936, 773, 626, 258, 925, 625, 109, 791, 427, 627, 609, 284, 329, 197]\n"
     ]
    }
   ],
   "source": [
    "import random\n",
    "random_list = [random.randint (0, 1000) for i in range(30)]\n",
    "print(random_list)"
   ]
  },
  {
   "cell_type": "markdown",
   "id": "df56d0fe",
   "metadata": {},
   "source": [
    "***1. Quants números hi ha?***"
   ]
  },
  {
   "cell_type": "code",
   "execution_count": 17,
   "id": "68c99a16",
   "metadata": {},
   "outputs": [
    {
     "data": {
      "text/plain": [
       "30"
      ]
     },
     "execution_count": 17,
     "metadata": {},
     "output_type": "execute_result"
    }
   ],
   "source": [
    "len (random_list)           #No estic segur si és això el qué es demana...massa fàcil?"
   ]
  },
  {
   "cell_type": "markdown",
   "id": "3e877678",
   "metadata": {},
   "source": [
    "***2.  Quantes vegades apareix el número 3?***"
   ]
  },
  {
   "cell_type": "markdown",
   "id": "633e64b6",
   "metadata": {},
   "source": [
    "Veiem. Surt el numero 3 com registre de la llista?"
   ]
  },
  {
   "cell_type": "code",
   "execution_count": 18,
   "id": "f983e458",
   "metadata": {},
   "outputs": [
    {
     "name": "stdout",
     "output_type": "stream",
     "text": [
      "[817, 765, 799, 154, 514, 654, 319, 614, 89, 519, 605, 44, 691, 582, 841, 852, 936, 773, 626, 258, 925, 625, 109, 791, 427, 627, 609, 284, 329, 197]\n"
     ]
    }
   ],
   "source": [
    "print (random_list)"
   ]
  },
  {
   "cell_type": "code",
   "execution_count": 19,
   "id": "7cc3eaa9",
   "metadata": {},
   "outputs": [
    {
     "data": {
      "text/plain": [
       "0"
      ]
     },
     "execution_count": 19,
     "metadata": {},
     "output_type": "execute_result"
    }
   ],
   "source": [
    "random_list.count(3)     "
   ]
  },
  {
   "cell_type": "markdown",
   "id": "df3daf4a",
   "metadata": {},
   "source": [
    "No hi surt.\n",
    "Mirarem si surt com component d'altres registres...\n",
    "Amb un bucle que buscarà el número tres a tots els elements de la llista. Amb 'str' fem que el busqui dintre de cada component de la llista"
   ]
  },
  {
   "cell_type": "code",
   "execution_count": 20,
   "id": "35e4ef00",
   "metadata": {},
   "outputs": [
    {
     "name": "stdout",
     "output_type": "stream",
     "text": [
      "4\n"
     ]
    }
   ],
   "source": [
    "p2=3\n",
    "resultado_p2=0\n",
    "for muestra in random_list:\n",
    "    for digito in str(muestra):\n",
    "        if int(digito) == p2:\n",
    "            resultado_p2 +=1\n",
    "print (resultado_p2)"
   ]
  },
  {
   "cell_type": "markdown",
   "id": "20fa1363",
   "metadata": {},
   "source": [
    "En una sola línia..."
   ]
  },
  {
   "cell_type": "code",
   "execution_count": 21,
   "id": "b0a15700",
   "metadata": {},
   "outputs": [
    {
     "name": "stdout",
     "output_type": "stream",
     "text": [
      "4\n"
     ]
    }
   ],
   "source": [
    "p2=3\n",
    "resultado_p2 = sum(str(muestra).count(str(p2)) for muestra in random_list)\n",
    "print (resultado_p2)"
   ]
  },
  {
   "cell_type": "markdown",
   "id": "3b0a53d5",
   "metadata": {},
   "source": [
    "***3. Quantes vegades apareixen els nombres 3 i 4?***"
   ]
  },
  {
   "cell_type": "markdown",
   "id": "e521a44d",
   "metadata": {},
   "source": [
    "Suposem que es vol saber quantes vegades hi surten junts..."
   ]
  },
  {
   "cell_type": "markdown",
   "id": "dbf6904f",
   "metadata": {},
   "source": [
    "Els busquem a tots els elements de la llista, que prèviament són fets cadenes amb **'str'**, per tal de que el bucle es pugui buscar com a component independent dintre de cada número de la llista:"
   ]
  },
  {
   "cell_type": "code",
   "execution_count": 22,
   "id": "6164ffbd",
   "metadata": {},
   "outputs": [
    {
     "name": "stdout",
     "output_type": "stream",
     "text": [
      "0\n"
     ]
    }
   ],
   "source": [
    "dig1=3\n",
    "dig2=4\n",
    "resultado_p3=0\n",
    "for x in random_list:\n",
    "    if str(dig1) in str(x) and str(dig2) in str (x):\n",
    "            resultado_p3 +=1\n",
    "print (resultado_p3)"
   ]
  },
  {
   "cell_type": "markdown",
   "id": "bf72d1a2",
   "metadata": {},
   "source": [
    "També d'una manera més clara i directa, tot i que potser l'anterior era més neta, de cara a tornar-la a utilitzar..."
   ]
  },
  {
   "cell_type": "code",
   "execution_count": 23,
   "id": "a3ee76f9",
   "metadata": {},
   "outputs": [
    {
     "name": "stdout",
     "output_type": "stream",
     "text": [
      "0\n"
     ]
    }
   ],
   "source": [
    "resultado_p3=0\n",
    "for x in random_list:\n",
    "    if str(3) in str(x) and str(4) in str (x):\n",
    "            resultado_p3 +=1\n",
    "print (resultado_p3)"
   ]
  },
  {
   "cell_type": "markdown",
   "id": "ca4a826f",
   "metadata": {},
   "source": [
    "El mateix en una sola línia..."
   ]
  },
  {
   "cell_type": "code",
   "execution_count": 24,
   "id": "1db97bb0",
   "metadata": {},
   "outputs": [
    {
     "name": "stdout",
     "output_type": "stream",
     "text": [
      "0\n"
     ]
    }
   ],
   "source": [
    "dig1=3\n",
    "dig2=4\n",
    "resultado_p3=sum(str(dig1)in str(x) and str(dig2) in str(x) for x in random_list)\n",
    "print (resultado_p3)"
   ]
  },
  {
   "cell_type": "markdown",
   "id": "1525a020",
   "metadata": {},
   "source": [
    "***4. Quin és el número més gran?***"
   ]
  },
  {
   "cell_type": "code",
   "execution_count": 25,
   "id": "0c11860b",
   "metadata": {},
   "outputs": [
    {
     "name": "stdout",
     "output_type": "stream",
     "text": [
      "936\n"
     ]
    }
   ],
   "source": [
    "print (max(random_list))"
   ]
  },
  {
   "cell_type": "markdown",
   "id": "a5ff0abf",
   "metadata": {},
   "source": [
    "***5. Quins són els 3 números més petits?***"
   ]
  },
  {
   "cell_type": "code",
   "execution_count": 26,
   "id": "0a1a7131",
   "metadata": {},
   "outputs": [
    {
     "name": "stdout",
     "output_type": "stream",
     "text": [
      "[44, 89, 109]\n"
     ]
    }
   ],
   "source": [
    "print(sorted(random_list)[:3])"
   ]
  },
  {
   "cell_type": "markdown",
   "id": "25c66557",
   "metadata": {},
   "source": [
    "...Amb 'sorted' la llista queda ordenada ascendent. Després en treiem els tres primers elements"
   ]
  },
  {
   "cell_type": "markdown",
   "id": "cc1e23af",
   "metadata": {},
   "source": [
    "***6. Quin és el rang d’aquesta llista?***"
   ]
  },
  {
   "cell_type": "raw",
   "id": "fd10afa5",
   "metadata": {},
   "source": [
    "Doncs no sé si vé per aquí la cosa, però el rang, apart com una funció en certa manera instrumental, no hi trobo cap altra dimensió. A posteriori, donada una llista, el rang seria el \"espai\" entre el element més baix i el més alt, sense cap altra característica en aquest exemple, ja que és originada aleatòriament...???"
   ]
  },
  {
   "cell_type": "markdown",
   "id": "96ab11aa",
   "metadata": {},
   "source": [
    "## Exercici 4"
   ]
  },
  {
   "cell_type": "markdown",
   "id": "f4bcfed6",
   "metadata": {},
   "source": [
    "***Crea un diccionari de la següent forma i respon a les preguntes:\n",
    "compra = { \"Pomes\" : {\"Qty\": 5, \"€\": 0.42}, \"Peres\" : {\"Qty\": 3, \"€\": 0.66}}***"
   ]
  },
  {
   "cell_type": "code",
   "execution_count": 3,
   "id": "cf1bfcec",
   "metadata": {},
   "outputs": [
    {
     "data": {
      "text/plain": [
       "dict"
      ]
     },
     "execution_count": 3,
     "metadata": {},
     "output_type": "execute_result"
    }
   ],
   "source": [
    "compra = { \"Pomes\" : {\"Qty\": 5, \"€\": 0.42}, \"Peres\" : {\"Qty\": 3, \"€\": 0.66}}\n",
    "type (compra)\n"
   ]
  },
  {
   "cell_type": "markdown",
   "id": "b6350c77",
   "metadata": {},
   "source": [
    "***1. Afegeix alguna fruita més***"
   ]
  },
  {
   "cell_type": "code",
   "execution_count": 4,
   "id": "192cd28b",
   "metadata": {},
   "outputs": [
    {
     "name": "stdout",
     "output_type": "stream",
     "text": [
      "{'Pomes': {'Qty': 5, '€': 0.42}, 'Peres': {'Qty': 3, '€': 0.66}, 'Taronges': {'Qty': 10, '€': 0.99}}\n"
     ]
    }
   ],
   "source": [
    "compra['Taronges']={\"Qty\":10, \"€\":0.99}\n",
    "print (compra)"
   ]
  },
  {
   "cell_type": "markdown",
   "id": "ec61c96d",
   "metadata": {},
   "source": [
    "***2. Quant han costat les peres en total?***"
   ]
  },
  {
   "cell_type": "markdown",
   "id": "daea81af",
   "metadata": {},
   "source": [
    "Deduïm, perqué no podem fer altra cosa, que 'Qty' és \"quantitat\" o \"unitats\" de la compra.\n",
    "Així també donem per fet que '€' és el preu per unitat..."
   ]
  },
  {
   "cell_type": "code",
   "execution_count": 5,
   "id": "86d8e99e",
   "metadata": {},
   "outputs": [
    {
     "data": {
      "text/plain": [
       "{'Qty': 3, '€': 0.66}"
      ]
     },
     "execution_count": 5,
     "metadata": {},
     "output_type": "execute_result"
    }
   ],
   "source": [
    "compra['Peres']"
   ]
  },
  {
   "cell_type": "code",
   "execution_count": 6,
   "id": "13b1160e-ce5e-4e3d-9d13-056041aaec93",
   "metadata": {},
   "outputs": [
    {
     "name": "stdout",
     "output_type": "stream",
     "text": [
      "1.98\n"
     ]
    }
   ],
   "source": [
    "total = compra['Peres']['Qty']*compra['Peres']['€']\n",
    "print (total)"
   ]
  },
  {
   "cell_type": "code",
   "execution_count": null,
   "id": "30c49f48-3632-412f-84b9-7d40915e729d",
   "metadata": {},
   "outputs": [],
   "source": []
  },
  {
   "cell_type": "markdown",
   "id": "ac598685-c823-4614-b08b-2330dbcf6ac9",
   "metadata": {},
   "source": [
    "***3. Quantes fruites hem comprat en total?***"
   ]
  },
  {
   "cell_type": "code",
   "execution_count": 7,
   "id": "5c087e91-3753-4f6a-b74b-6b8dc5798192",
   "metadata": {},
   "outputs": [
    {
     "data": {
      "text/plain": [
       "['Pomes', 'Peres', 'Taronges']"
      ]
     },
     "execution_count": 7,
     "metadata": {},
     "output_type": "execute_result"
    }
   ],
   "source": [
    "list (compra)\n"
   ]
  },
  {
   "cell_type": "markdown",
   "id": "fdad274e-07c0-489a-8ed5-c42781ee451d",
   "metadata": {},
   "source": [
    "Això val si tenim tres però no valdria amb trenta mil..."
   ]
  },
  {
   "cell_type": "code",
   "execution_count": 8,
   "id": "9de3a969-f96d-4ea9-9740-55de73c52ccc",
   "metadata": {},
   "outputs": [
    {
     "data": {
      "text/plain": [
       "3"
      ]
     },
     "execution_count": 8,
     "metadata": {},
     "output_type": "execute_result"
    }
   ],
   "source": [
    "len (compra)"
   ]
  },
  {
   "cell_type": "markdown",
   "id": "4b73daa6-fdd9-4c50-a30a-75973a78f8f0",
   "metadata": {},
   "source": [
    "Anem una mica més enllà. Estaria molt malament feta la pregunta, peró potser ens están demanant quantes *peces* de fruita hem comprat, encara que siguin de tipus diferents..."
   ]
  },
  {
   "cell_type": "code",
   "execution_count": 15,
   "id": "d9bc8272-01e8-4d07-9f47-aa13a7be8434",
   "metadata": {},
   "outputs": [
    {
     "name": "stdout",
     "output_type": "stream",
     "text": [
      "18\n"
     ]
    }
   ],
   "source": [
    "piezas = []\n",
    "for x in compra:\n",
    "    piezas.append(compra [x]['Qty'])\n",
    "print (sum(piezas))\n",
    "\n"
   ]
  },
  {
   "cell_type": "markdown",
   "id": "427315e2-e601-4c21-8d4b-efefa1762598",
   "metadata": {},
   "source": [
    "Fem el bucle amb 'x' per cada fruita de la llista i anem 'baixant' nivells de diccionaris anidats fins arribar al que volem\n",
    "Després sumem els valors de la variable que ens interesa"
   ]
  },
  {
   "cell_type": "markdown",
   "id": "3bd6294b-4008-489b-965a-f52838830b15",
   "metadata": {},
   "source": [
    "Provem en una sola línia..."
   ]
  },
  {
   "cell_type": "code",
   "execution_count": 17,
   "id": "a3d71e27-a97d-46dd-997d-577a5d8728f0",
   "metadata": {},
   "outputs": [
    {
     "name": "stdout",
     "output_type": "stream",
     "text": [
      "18\n"
     ]
    }
   ],
   "source": [
    "piezas = sum(compra[x]['Qty'] for x in compra)\n",
    "print (piezas)"
   ]
  },
  {
   "cell_type": "markdown",
   "id": "110c2656-4140-42df-8fb4-644ad526bef8",
   "metadata": {},
   "source": [
    "***4. Quina és la fruita més cara?***"
   ]
  },
  {
   "cell_type": "markdown",
   "id": "ed1234c0-472a-4875-8eb9-3a2a71ea3a99",
   "metadata": {},
   "source": [
    "De forma semblant a l' anterior..."
   ]
  },
  {
   "cell_type": "code",
   "execution_count": 20,
   "id": "0809be04-a72a-4dde-b5fd-a742a1e38abe",
   "metadata": {},
   "outputs": [
    {
     "name": "stdout",
     "output_type": "stream",
     "text": [
      "0.99\n"
     ]
    }
   ],
   "source": [
    "mayor_precio = max (compra[x]['€'] for x in compra)\n",
    "print (mayor_precio)"
   ]
  }
 ],
 "metadata": {
  "kernelspec": {
   "display_name": "Python 3 (ipykernel)",
   "language": "python",
   "name": "python3"
  },
  "language_info": {
   "codemirror_mode": {
    "name": "ipython",
    "version": 3
   },
   "file_extension": ".py",
   "mimetype": "text/x-python",
   "name": "python",
   "nbconvert_exporter": "python",
   "pygments_lexer": "ipython3",
   "version": "3.9.16"
  },
  "nbTranslate": {
   "displayLangs": [
    "*"
   ],
   "hotkey": "alt-t",
   "langInMainMenu": true,
   "sourceLang": "en",
   "targetLang": "fr",
   "useGoogleTranslate": true
  },
  "toc-autonumbering": false,
  "toc-showtags": false
 },
 "nbformat": 4,
 "nbformat_minor": 5
}
